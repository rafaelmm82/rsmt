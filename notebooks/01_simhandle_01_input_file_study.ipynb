{
 "cells": [
  {
   "cell_type": "markdown",
   "metadata": {
    "collapsed": true
   },
   "source": [
    "# 01 - SimHandle\n"
   ]
  },
  {
   "cell_type": "markdown",
   "metadata": {},
   "source": [
    "## 1.1 - Input Data File Study and Understanding"
   ]
  },
  {
   "cell_type": "markdown",
   "metadata": {},
   "source": [
    "The file used to study is the one used during the PhD experiments, namely \"*spe9imex.dat*\". A description of it could be found in Report file with \"*Research Diary (Journal) - LaMEP - Rafael.docx*\" in \"*doc/*\" directory, in the section \"*DS1 - SPE 9*\".\n",
    "\n",
    "After conducting a software documentation search, I started and spent big time of this analysis using a trial/edit/simulation/error process. Hopefully I did reach the files related to one seminar given by the Professor Mahmoud Reza Pishvaie (in Sharif University of Technology). Thank you! They are in the \"*doc/references*\" folder.\n",
    "And Later got access to the oficial documentation \"*mx2015en*\" in pdf and windows html helper documments."
   ]
  },
  {
   "cell_type": "markdown",
   "metadata": {},
   "source": [
    "Usually each DataSet file is composed of seven parts"
   ]
  },
  {
   "cell_type": "markdown",
   "metadata": {},
   "source": [
    "The File starts with an comment header descriptor, and after the first run on the IMEX simulator one additional line is added in the end of this section, like this:"
   ]
  },
  {
   "cell_type": "markdown",
   "metadata": {},
   "source": [
    "```\n",
    "   **************************************************************************************\n",
    "   **                                                                                  **\n",
    "   ** MODEL:  24x25x15                SPE 9                  3-D HETEROGENEOUS EXAMPLE **\n",
    "   **                                                                                  **\n",
    "   **************************************************************************************\n",
    "   **                                                                                  **\n",
    "   ** Ninth Comparative Solution Project:  Killough, J.E., \"Ninth SPE Comparative      **\n",
    "   ** Solution Project: A Reexamination of Black-Oil Simulation\", Thirteenth SPE       **\n",
    "   ** Symposium on Reservoir Simulation, 1995 (SPE 29110). This is 24 x 25 x 15        **\n",
    "   ** heterogeneous Cartesian grid problem with a water injector located at (24,25)    **\n",
    "   ** and 25 producers.                                                                **\n",
    "   **************************************************************************************                                \n",
    "** 2019-11-05, 08:13:57, Usuario\n",
    "```"
   ]
  },
  {
   "cell_type": "markdown",
   "metadata": {},
   "source": [
    "It is followed by a line saying the software simulator for this specific content"
   ]
  },
  {
   "cell_type": "markdown",
   "metadata": {},
   "source": [
    "```\n",
    "RESULTS SIMULATOR IMEX\n",
    "```"
   ]
  },
  {
   "cell_type": "markdown",
   "metadata": {},
   "source": [
    "A sequence of content related to I/O inputed is related in the following section:"
   ]
  },
  {
   "cell_type": "markdown",
   "metadata": {},
   "source": [
    "```\n",
    "********************************************************************************\n",
    "** I/O Control Section                                                        **\n",
    "********************************************************************************\n",
    "\n",
    "*TITLE1\n",
    "'Ninth SPE Comparative Solution Project'\n",
    "*TITLE2\n",
    "'STONE2, 3-D HETEROGENEOUS EXAMPLE'\n",
    "*TITLE3\n",
    "'Killough, 13th SPE Res Sim Symp, 1995'\n",
    "\n",
    "*NOLIST\n",
    "*INUNIT *FIELD              ** Field units are used for both input and output.\n",
    "*WPRN   *WELL 0\n",
    "*WPRN   *GRID 0\n",
    "*OUTPRN *GRID *PRES *SO *SW  *SG\n",
    "*OUTPRN *TABLES *NONE\n",
    "*OUTDIARY  *WELLSTATUS\n",
    "```"
   ]
  },
  {
   "cell_type": "markdown",
   "metadata": {},
   "source": [
    "About the last section I got these descriptions:\n",
    "\n",
    "``` *TITLE ```\n",
    "``` 'string description' ```\n",
    "as the name related to different titles sections and reservoir descriptions\n",
    "\n"
   ]
  },
  {
   "cell_type": "markdown",
   "metadata": {},
   "source": [
    "```\n",
    "\n",
    "```"
   ]
  },
  {
   "cell_type": "markdown",
   "metadata": {},
   "source": []
  },
  {
   "cell_type": "markdown",
   "metadata": {},
   "source": [
    "```\n",
    "\n",
    "```"
   ]
  },
  {
   "cell_type": "markdown",
   "metadata": {},
   "source": []
  },
  {
   "cell_type": "markdown",
   "metadata": {},
   "source": [
    "```\n",
    "\n",
    "```"
   ]
  },
  {
   "cell_type": "markdown",
   "metadata": {},
   "source": []
  },
  {
   "cell_type": "markdown",
   "metadata": {},
   "source": [
    "```\n",
    "\n",
    "```"
   ]
  },
  {
   "cell_type": "markdown",
   "metadata": {},
   "source": []
  },
  {
   "cell_type": "markdown",
   "metadata": {},
   "source": []
  },
  {
   "cell_type": "code",
   "execution_count": null,
   "metadata": {},
   "outputs": [],
   "source": []
  },
  {
   "cell_type": "code",
   "execution_count": null,
   "metadata": {},
   "outputs": [],
   "source": []
  },
  {
   "cell_type": "code",
   "execution_count": null,
   "metadata": {},
   "outputs": [],
   "source": []
  }
 ],
 "metadata": {
  "kernelspec": {
   "display_name": "Python 3",
   "language": "python",
   "name": "python3"
  },
  "language_info": {
   "codemirror_mode": {
    "name": "ipython",
    "version": 3
   },
   "file_extension": ".py",
   "mimetype": "text/x-python",
   "name": "python",
   "nbconvert_exporter": "python",
   "pygments_lexer": "ipython3",
   "version": "3.7.4"
  }
 },
 "nbformat": 4,
 "nbformat_minor": 1
}
