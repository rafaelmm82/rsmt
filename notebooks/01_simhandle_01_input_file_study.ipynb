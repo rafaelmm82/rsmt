{
 "cells": [
  {
   "cell_type": "markdown",
   "metadata": {
    "collapsed": true
   },
   "source": [
    "# 01 - SimHandle\n"
   ]
  },
  {
   "cell_type": "markdown",
   "metadata": {},
   "source": [
    "## 1.1 - Input Data File Study and Understanding"
   ]
  },
  {
   "cell_type": "markdown",
   "metadata": {},
   "source": [
    "The file used to study is the one used during the PhD experiments, namely \"*spe9imex.dat*\". A description of it could be found in Report file with \"*Research Diary (Journal) - LaMEP - Rafael.docx*\" in \"*doc/*\" directory, in the section \"*DS1 - SPE 9*\".\n",
    "\n",
    "After conducting a software documentation search, I started and spent a big time of this analysis using a trial/edit/simulation/error process. Hopefully I did reach the files related to one seminar given by the Professor Mahmoud Reza Pishvaie (in Sharif University of Technology). Thank you! They are in the \"*doc/references*\" folder.\n",
    "\n",
    "Later I got access to the oficial documentation \"*mx201510en*\" in pdf and windows html helper documents. Of course, this explainned almost everything quite well.\n",
    "\n",
    "Only parts of the \"*spe9imex.dat*\" are presented here to make easier to understand and to present. The original content has 2669 lines.\n",
    "\n",
    "To better understand the system input (specially the array system) I strongly recomend the complete lecture of the section 'Keyword Data Entry System' in the manual (pages 209-245), read some examples bellow and later come back again to this section of the manual."
   ]
  },
  {
   "cell_type": "markdown",
   "metadata": {},
   "source": [
    "Usually each DataSet file is composed of seven (7) related parts (groups), including:\n",
    "\n",
    "1. **Input/Output Control**\n",
    "2. **Reservoir Description**\n",
    "3. **Component Properties**\n",
    "4. **Rock-Fluid Data**\n",
    "5. **Initial Conditions**\n",
    "6. **Numerical Methods Control**\n",
    "7. **Well and Recurrent Data**\n",
    "\n",
    "Keywords composing the Dataset usually are allowed only in its own section (group). The order of them is important too.\n",
    "\n",
    "---"
   ]
  },
  {
   "cell_type": "markdown",
   "metadata": {},
   "source": [
    "The File starts with an comment header descriptor, and after the first run, using IMEX simulator, one additional line is added in the end of this section, like this:"
   ]
  },
  {
   "cell_type": "markdown",
   "metadata": {},
   "source": [
    "```\n",
    "**************************************************************************************\n",
    "**                                                                                  **\n",
    "** MODEL:  24x25x15                SPE 9                  3-D HETEROGENEOUS EXAMPLE **\n",
    "**                                                                                  **\n",
    "**************************************************************************************\n",
    "**                                                                                  **\n",
    "** Ninth Comparative Solution Project:  Killough, J.E., \"Ninth SPE Comparative      **\n",
    "** Solution Project: A Reexamination of Black-Oil Simulation\", Thirteenth SPE       **\n",
    "** Symposium on Reservoir Simulation, 1995 (SPE 29110). This is 24 x 25 x 15        **\n",
    "** heterogeneous Cartesian grid problem with a water injector located at (24,25)    **\n",
    "** and 25 producers.                                                                **\n",
    "**************************************************************************************                                \n",
    "** 2019-11-05, 08:13:57, Usuario\n",
    "```"
   ]
  },
  {
   "cell_type": "markdown",
   "metadata": {},
   "source": [
    "It is followed by a line saying the software simulator for this specific content"
   ]
  },
  {
   "cell_type": "markdown",
   "metadata": {},
   "source": [
    "```\n",
    "RESULTS SIMULATOR IMEX\n",
    "```"
   ]
  },
  {
   "cell_type": "markdown",
   "metadata": {},
   "source": [
    "___"
   ]
  },
  {
   "cell_type": "markdown",
   "metadata": {},
   "source": [
    "### 1.1.1 - Input/Output Control"
   ]
  },
  {
   "cell_type": "markdown",
   "metadata": {},
   "source": [
    "A sequence of content related to the group I/O inputed is related in the following section:"
   ]
  },
  {
   "cell_type": "markdown",
   "metadata": {},
   "source": [
    "```\n",
    "********************************************************************************\n",
    "** I/O Control Section                                                        **\n",
    "********************************************************************************\n",
    "\n",
    "*TITLE1\n",
    "'Ninth SPE Comparative Solution Project'\n",
    "*TITLE2\n",
    "'STONE2, 3-D HETEROGENEOUS EXAMPLE'\n",
    "*TITLE3\n",
    "'Killough, 13th SPE Res Sim Symp, 1995'\n",
    "\n",
    "*NOLIST\n",
    "*INUNIT *FIELD              ** Field units are used for both input and output.\n",
    "\n",
    "*WPRN   *WELL 0\n",
    "*WPRN   *GRID 0\n",
    "*OUTPRN *GRID *PRES *SO *SW  *SG\n",
    "*OUTPRN *TABLES *NONE\n",
    "\n",
    "*WSRF   *GRID   *TIME\n",
    "*WSRF   *WELL   *TIME\n",
    "*OUTSRF *GRID *SO *SW  *SG  *PRES\n",
    "\n",
    "*OUTSRF *SPECIAL 1 1 1 PRES\n",
    "*OUTSRF *SPECIAL 24 25 11 PRES\n",
    "*OUTSRF *SPECIAL 24 25 12 PRES\n",
    "*OUTSRF *SPECIAL 24 25 13 PRES\n",
    "*OUTSRF *SPECIAL 24 25 14 PRES\n",
    "*OUTSRF *SPECIAL 24 25 15 PRES\n",
    "*OUTSRF *SPECIAL 8 13 2 PRES\n",
    "*OUTSRF *SPECIAL 8 13 3 PRES\n",
    "*OUTSRF *SPECIAL 8 13 4 PRES\n",
    "\n",
    "*OUTSRF *SPECIAL 1 13 1 SG\n",
    "*OUTSRF *SPECIAL 5 13 1 SG\n",
    "*OUTSRF *SPECIAL 10 13 1 SG\n",
    "*OUTSRF *SPECIAL 15 13 1 SG\n",
    "\n",
    "*OUTSRF *SPECIAL 24 25 1 SW\n",
    "*OUTSRF *SPECIAL 20 25 1 SW\n",
    "*OUTSRF *SPECIAL 15 25 1 SW\n",
    "*OUTSRF *SPECIAL 10 25 1 SW\n",
    "\n",
    "*OUTDIARY  *WELLSTATUS\n",
    "```"
   ]
  },
  {
   "cell_type": "markdown",
   "metadata": {},
   "source": [
    "About the last section I got these descriptions:\n",
    "\n",
    "``` *TITLE ```\n",
    "\n",
    "``` 'string description' ```\n",
    "\n",
    "as the name explicit, it is related to different titles sections and reservoir descriptions with multilevel description (Titles) to make it manageble by the users.\n",
    "\n",
    "_REF: mx201510en.pdf pages 87, 265-268_"
   ]
  },
  {
   "cell_type": "markdown",
   "metadata": {},
   "source": [
    "``` *NOLIST ```\n",
    "\n",
    "``` *INUNIT *FIELD ```\n",
    "\n",
    "**\\*NOLIST** specifies that not include the input data file into the output print file, starting immediately after the current line.\n",
    "\n",
    "_REF: mx201510en.pdf page 219_\n",
    "\n",
    "**\\*INUNIT** specifies the input data units, usually one of: SI (standard international system), FIELD (field units, most used in oil/gas industry), LAB (laboratory units), or MODSI (modified SI system). Defaults is SI, that why it was set to \\*FIELD in this file.\n",
    "\n",
    "_REF: mx201510en.pdf page 275_"
   ]
  },
  {
   "cell_type": "markdown",
   "metadata": {},
   "source": [
    "``` *WPRN   *WELL 0 ```\n",
    "\n",
    "``` *WPRN   *GRID 0 ```\n",
    "\n",
    "``` *OUTPRN *GRID *PRES *SO *SW  *SG ```\n",
    "\n",
    "``` *OUTPRN *TABLES *NONE ```\n",
    "\n",
    "The **\\*WPRN** and **\\*OUTPRN** keywords are related to the what and within frequency contents muts appears in output file. They can appear in this \\[1\\] I/O Control Group Section and also later in  the \\[7\\] Well and Recurent Data Section.\n",
    "\n",
    "The **\\*WPRN** is relative to how frequently the information related to GRID, WELL and LAYERS needs to be put in output file. The default pattern is relative to print everything at each *TIME defined in the file. If no information was demanded put a 0 following the name ot the property.\n",
    "\n",
    "In this file \\*WPRN is setting well and grid to output nothing, but later in the last KW group section it appears again saying to store well and grid properties at each timestep.\n",
    "\n",
    "Also, \\*OUTPRNT keyword here is saying to store grid data properties related to pressure, oil saturation, water saturation, and gas saturation.\n",
    "\n",
    "_REF: mx201510en.pdf page 90, 286-296_\n",
    "\n"
   ]
  },
  {
   "cell_type": "markdown",
   "metadata": {},
   "source": [
    "``` *WSRF   *GRID   *TIME ```\n",
    "\n",
    "``` *WSRF   *WELL   *TIME ```\n",
    "\n",
    "``` *OUTSRF *GRID *SO *SW  *SG  *PRES ```\n",
    "\n",
    "``` *OUTSRF *SPECIAL 1 1 1 PRES ```\n",
    "\n",
    "``` *OUTSRF *SPECIAL 24 25 11 PRES ```\n",
    "\n",
    "...\n",
    "\n",
    "``` *OUTSRF *SPECIAL 1 13 1 SG ```\n",
    "\n",
    "...\n",
    "\n",
    "``` *OUTSRF *SPECIAL 24 25 1 SW ```\n",
    "\n",
    "...\n",
    "\n",
    "\n",
    "The **\\*WSRF** and **\\*OUTSRF** keywords follows the same behavior of the earlier commands but are related to the what and within frequency contents muts appears in SR2 file for graphical displaying. They can appear in this \\[1\\] I/O Control Group Section and also later in  the \\[7\\] Well and Recurent Data Section.\n",
    "\n",
    "The **\\*WSRF** is relative to how frequently the information related to GRID, WELL and LAYERS needs to be put in output file. The default pattern is relative to print everything at each *TIME defined in the file. If no information was demanded put a 0 following the name ot the property.\n",
    "\n",
    "In this file \\*WSRF is setting well and grid to output at each time defined in the final section.\n",
    "\n",
    "Also, \\*OUTSRF keyword here is saying to store grid data properties related to oil saturation, water saturation, gas saturation, and pressure. A lot of \\*SPECIAL registers were set to specific plotting.\n",
    "\n",
    "_REF: mx201510en.pdf page 91, 297-305_\n",
    "\n"
   ]
  },
  {
   "cell_type": "markdown",
   "metadata": {},
   "source": [
    "``` *OUTDIARY  *WELLSTATUS ```\n",
    "\n",
    "The **\\*OUTDIARY** controls part of the informatino in the output diary file. Because the \\*WELL STATUS appears sequentially it denotes that the saturations (oil, gas, water) and pressure of all injection/production wells will be written.\n",
    "\n",
    "_REF: mx201510en.pdf page 306-307_"
   ]
  },
  {
   "cell_type": "markdown",
   "metadata": {},
   "source": [
    "End of Section Input/Output Control\n",
    "\n",
    "---"
   ]
  },
  {
   "cell_type": "markdown",
   "metadata": {},
   "source": [
    "### 1.1.2 - Reservoir Description"
   ]
  },
  {
   "cell_type": "markdown",
   "metadata": {},
   "source": [
    "A sequence of content related to the group Reservoir Description is related in the following section:"
   ]
  },
  {
   "cell_type": "markdown",
   "metadata": {},
   "source": [
    "```\n",
    "********************************************************************************\n",
    "** Reservoir Description Section                                              **\n",
    "********************************************************************************\n",
    "\n",
    "*GRID *CART 24 25  15       ** 24 blocks in the I(x)& 25 in the J(y) directions.\n",
    "                            ** 15 layers in the K (z) direction.\n",
    "*KDIR *DOWN                 ** K=1 for top layer, K=15 for bottom layer\n",
    "\n",
    "*DI *CON 300.0              ** I direction block dimensions\n",
    "\n",
    "*DJ *CON 300.0              ** J direction block dimensions\n",
    "\n",
    "*DK *KVAR                   ** K direction block dimensions (layer thicknesses)\n",
    "20 15 26 15 16 14 8 8 18 12 19 18 20 50 100\n",
    "\n",
    "*DEPTH 1 1 1 9010.          ** Depth to center of first block, in top layer.\n",
    "*DIP -10.0 0.0               ** Reservoir dips 10 degrees in the I direction.\n",
    "                            ** No dip in the J direction\n",
    "\n",
    "*POR *KVAR                  ** Porosity is constant for each layer\n",
    "                            ** but vary by layer\n",
    ".087 .097 .111 .16 .13 .17 .17 .08 .14 .13 .12 .105 .12 .116 .157\n",
    "\n",
    "*CPOR   1.0E-6              ** Rock compressibility and\n",
    "*PRPOR 3600.0               ** reference pressure.\n",
    "\n",
    "*PERMI *ALL                 ** An array of geostatistically distributed\n",
    "                            ** values is used for permeability in I direction.\n",
    "** LAYER  1\n",
    "** ROW    1\n",
    "       49.29276      162.25308      438.45926      492.32336      791.32867\n",
    "      704.17102      752.34912      622.96875      542.24493      471.45953\n",
    "      246.12650       82.07828       82.87408      101.65224       57.53632\n",
    "       47.73741       55.07134       24.33975       41.06571       76.64680\n",
    "      158.22012       84.31137       98.32045       67.18009\n",
    "** ROW    2\n",
    "       59.36459       32.75453       48.89822       78.56290      152.85838\n",
    "       48.61450       45.90883       49.59706       87.95659       63.36467\n",
    "       36.76624       22.82411       12.88787        7.30505        7.74248\n",
    "       11.78211       23.77054      123.28667      618.79059      535.32922\n",
    "      264.58759      387.70538      682.85431      823.64056\n",
    "** ROW    3\n",
    "\n",
    "...\n",
    "\n",
    "** ROW    24\n",
    "       39.32721       44.30146       56.55714      125.19577       85.31541\n",
    "       80.05965       76.22941       64.71399       20.18338       17.06875\n",
    "       33.89415       39.89968       24.17484       22.23781       33.97250\n",
    "       33.50774       21.87134        8.44310        6.99710       10.30638\n",
    "        7.77214       11.00815       12.07220       29.88515\n",
    "** ROW    25\n",
    "       67.42879      167.64226      167.21396      293.34863      348.70944\n",
    "      499.50162      162.70255       91.16136       46.47388       39.21331\n",
    "       11.85997       12.08859       18.62917       21.50725       36.22818\n",
    "       44.15623       37.72081       72.00138       67.82285      182.54388\n",
    "      117.36562      126.18334       95.86160      123.95855\n",
    "** LAYER  2\n",
    "** LAYER  3\n",
    " \n",
    " ...\n",
    " \n",
    "** LAYER  14\n",
    "** LAYER  15\n",
    "** ROW    1\n",
    "       16.10543       11.42444        9.40110       17.90929       13.42825\n",
    "        9.31416        7.36817       38.21529       48.50117       42.75115\n",
    "       30.82360       21.55525       12.68888        5.06726        2.52429\n",
    "        1.10382        1.42259        1.25391        1.83292        1.81990\n",
    "        1.86886        2.06910        2.12947        1.51879\n",
    "** ROW    2\n",
    "        1.18379        2.26189        2.61705        5.99524       10.31299\n",
    "       15.17937       32.40075       33.90037      109.47345      261.72995\n",
    "      238.24753      206.15742      121.33305      242.47713      166.94165\n",
    "      146.50681       13.91259        7.39986        5.83849        6.06996\n",
    "        7.95473        8.99119       13.17873       39.65227\n",
    "\n",
    "...\n",
    "\n",
    "** ROW    24\n",
    "        7.89712        4.95030        5.71962        7.83024       11.71794\n",
    "       23.62131       33.05274       70.84187        7.38943        7.49921\n",
    "       11.69680       10.97819       14.39844       22.66654       28.41940\n",
    "       24.50287       13.19070       14.89152       24.02716       24.94995\n",
    "       19.09564        8.27764       22.19613       17.68164\n",
    "** ROW    25\n",
    "       22.53480       17.92533        8.57474       10.12566       17.64281\n",
    "        8.75865        6.21574        3.95186        8.25921       28.63912\n",
    "       23.45510       23.26124       26.54238       18.81447       13.00590\n",
    "       16.30125       11.36926        9.55338        3.51044       11.66872\n",
    "        7.39936       19.01242       38.47255       47.05342\n",
    "\n",
    "*PERMJ *EQUALSI             ** J-direction permeability same as I-direction\n",
    "*PERMK *EQUALSI * 0.01      ** K-direction permeability = 0.01 I-direction k\n",
    "\n",
    "*MODEL *BLACKOIL            ** Solve three phase three equations.\n",
    "```"
   ]
  },
  {
   "cell_type": "markdown",
   "metadata": {},
   "source": [
    "Description of the section, as follow:"
   ]
  },
  {
   "cell_type": "markdown",
   "metadata": {},
   "source": [
    "```\n",
    "*GRID *CART 24 25  15       ** 24 blocks in the I(x)& 25 in the J(y) directions.\n",
    "                            ** 15 layers in the K (z) direction.\n",
    "```\n",
    "\n",
    "**\\*GRID** specifies the main structure of the reservoir. As appears on the comments, the first value refers to I, second to J and the las to K directions. There is possible to use \\*CART, \\*VARI, \\*CORNER, and \\*RADIAL.\n",
    "\n",
    "_REF: mx201510en.pdf pages 313-319_"
   ]
  },
  {
   "cell_type": "markdown",
   "metadata": {},
   "source": [
    "```\n",
    "*KDIR *DOWN                 ** K=1 for top layer, K=15 for bottom layer\n",
    "```\n",
    "\n",
    "**\\*KDIR** specifies how to set the sequence of layers (K) in the reservoir, if it increasing in ascending to the surface or goes down follow the gravity. To options is allowed \\*UP, and \\*DOWN.\n",
    "\n",
    "_REF: mx201510en.pdf pages 320-321_"
   ]
  },
  {
   "attachments": {
    "image.png": {
     "image/png": "[encoded data removed]"
    }
   },
   "cell_type": "markdown",
   "metadata": {},
   "source": [
    "![image.png](attachment:image.png)\n",
    "\n",
    "_REF: mx201510en.pdf page 316_"
   ]
  },
  {
   "cell_type": "markdown",
   "metadata": {},
   "source": [
    "```\n",
    "*DI *CON 300.0              ** I direction block dimensions\n",
    "\n",
    "*DJ *CON 300.0              ** J direction block dimensions\n",
    "\n",
    "*DK *KVAR                   ** K direction block dimensions (layer thicknesses)\n",
    "20 15 26 15 16 14 8 8 18 12 19 18 20 50 100\n",
    "```\n",
    "\n",
    "**\\*DI**, **\\*DJ**, and **\\*DK** specify, each of them, the lenght of each grid block on the respective direction (I,J,K 'x,y,z'). Usually it could be specified using the keywords \\*CON, when the lenghts are constant over the direction, or (\\*IVAR, \\*JVAR, \\*KVAR) when the lenght of block dimension varies over the serie. In the last case each size must be explicit defined.\n",
    "\n",
    "_REF: mx201510en.pdf pages 322-327_"
   ]
  },
  {
   "cell_type": "markdown",
   "metadata": {},
   "source": [
    "```\n",
    "*DEPTH 1 1 1 9010.          ** Depth to center of first block, in top layer.\n",
    "```\n",
    "\n",
    "**\\*DEPTH**, define the reservoir depth (in relation to the surface) considering the center of the specified grid block (in this case the cell i=1, j=1, k=1). It could be set also in relation to the top of the cell applying the specific keyword (\\*CENTER, \\*TOP).\n",
    "\n",
    "_REF: mx201510en.pdf pages 328-329_"
   ]
  },
  {
   "cell_type": "markdown",
   "metadata": {},
   "source": [
    "```\n",
    "*DIP -10.0 0.0               ** Reservoir dips 10 degrees in the I direction.\n",
    "                             ** No dip in the J direction\n",
    "```\n",
    "\n",
    "**\\*DIP**, requires two values (for I and J directions respectivly), it indicates the dip tilt angle on relative directions where the reservoir must be inclinated (if set). In this case there is a -10 degrees in I direction (the horizontal plane in I goes down - negative -.\n",
    "\n",
    "_REF: mx201510en.pdf pages 336-337_"
   ]
  },
  {
   "cell_type": "markdown",
   "metadata": {},
   "source": [
    "```\n",
    "*POR *KVAR                  ** Porosity is constant for each layer\n",
    "                            ** but vary by layer\n",
    ".087 .097 .111 .16 .13 .17 .17 .08 .14 .13 .12 .105 .12 .116 .157\n",
    "```\n",
    "\n",
    "**\\*POR**, indicates the porosity assigned for each block in the grid. In this case using the keyword \\*KVAR, it defines the porosity with constant value for each layer (K), one value per layer.\n",
    "\n",
    "_REF: mx201510en.pdf page 388_"
   ]
  },
  {
   "cell_type": "markdown",
   "metadata": {},
   "source": [
    "```\n",
    "*CPOR   1.0E-6              ** Rock compressibility and\n",
    "*PRPOR 3600.0               ** reference pressure.\n",
    "```\n",
    "\n",
    "**\\*CPOR**, indicates rock compressibility of the reservoir blocks and the related **\\*PRPOR** reference pressure for the rock compressibility.\n",
    "\n",
    "_REF: mx201510en.pdf pages 389-390_"
   ]
  },
  {
   "cell_type": "markdown",
   "metadata": {},
   "source": [
    "```\n",
    "*PERMI *ALL                 ** An array of geostatistically distributed\n",
    "                            ** values is used for permeability in I direction.\n",
    "** LAYER  1\n",
    "** ROW    1\n",
    "       49.29276      162.25308      438.45926      492.32336      791.32867\n",
    "      704.17102      752.34912      622.96875      542.24493      471.45953\n",
    "      246.12650       82.07828       82.87408      101.65224       57.53632\n",
    "       47.73741       55.07134       24.33975       41.06571       76.64680\n",
    "      158.22012       84.31137       98.32045       67.18009\n",
    "** ROW    2\n",
    "...\n",
    "** LAYER 15\n",
    "** ROW 25\n",
    "       22.53480       17.92533        8.57474       10.12566       17.64281\n",
    "        8.75865        6.21574        3.95186        8.25921       28.63912\n",
    "       23.45510       23.26124       26.54238       18.81447       13.00590\n",
    "       16.30125       11.36926        9.55338        3.51044       11.66872\n",
    "        7.39936       19.01242       38.47255       47.05342\n",
    "```\n",
    "\n",
    "**\\*PERMI** (\\*PERMJ, \\*PERMK), indicates an array of I direction permeabilities (I DIRECTION PERMEABILITIES!, PERMJ for J, PERMK for K). The keyword \\*ALL indicates that the property will be input cell by cell for each block in the reservoir starting from the cell (i=1, j=1, k=1) to (i=24, j=25, k=25 in this case). Increasing first for i, later j, ans last k. The commented lines (\\*\\* LAYER 1, \\*\\* ROW 1, is just to make it easier to the reader).\n",
    "\n",
    "_REF: mx201510en.pdf pages 237, 400-401_"
   ]
  },
  {
   "cell_type": "markdown",
   "metadata": {},
   "source": [
    "```\n",
    "*PERMJ *EQUALSI             ** J-direction permeability same as I-direction\n",
    "*PERMK *EQUALSI * 0.01      ** K-direction permeability = 0.01 I-direction k\n",
    "```\n",
    "\n",
    "**\\*PERMJ**, **\\*PERMK**, set the array of J direction permeabilities to be equals to the I direction permeabilities, and set the array of K direcion permeabilities to be a fraction of 0.01 (1%) of those defined in I direction.\n",
    "\n",
    "_REF: mx201510en.pdf pages 230, 400-401_"
   ]
  },
  {
   "cell_type": "markdown",
   "metadata": {},
   "source": [
    "```\n",
    "*MODEL *BLACKOIL            ** Solve three phase three equations.\n",
    "```\n",
    "\n",
    "Described in the next section (Apparently it was put here as a mistake, it pertains to the Component Properties Section). The same happens with to other sections, and so one I'll not emphatizes it."
   ]
  },
  {
   "cell_type": "markdown",
   "metadata": {},
   "source": [
    "End of section Reservoir Description\n",
    "\n",
    "---"
   ]
  },
  {
   "cell_type": "markdown",
   "metadata": {},
   "source": [
    "### 1.1.3 - Component Properties"
   ]
  },
  {
   "cell_type": "markdown",
   "metadata": {},
   "source": [
    "Section related to the component property content. The SPE9 files includes:"
   ]
  },
  {
   "cell_type": "markdown",
   "metadata": {},
   "source": [
    "```\n",
    "*MODEL *BLACKOIL            ** Solve three phase three equations.\n",
    "\n",
    "********************************************************************************\n",
    "** Component Property Section                                                 **\n",
    "********************************************************************************\n",
    "*TRES 100\n",
    "*PVT  *ZG\n",
    "** p       rs     bo      zg    viso     visg\n",
    "  14.7       0 1.0000   .9999   1.20    .0125\n",
    "   400     165 1.0120   .8369   1.17    .0130\n",
    "   800     335 1.0255   .8370   1.14    .0135\n",
    "  1200     500 1.0380   .8341   1.11    .0140\n",
    "  1600     665 1.0510   .8341   1.08    .0145\n",
    "  2000     828 1.0630   .8370   1.06    .0150\n",
    "  2400     985 1.0750   .8341   1.03    .0155\n",
    "  2800    1130 1.0870   .8341   1.00    .0160\n",
    "  3200    1270 1.0985   .8398    .98    .0165\n",
    "  3600    1390 1.1100   .8299    .95    .0170\n",
    "  4000    1500 1.1200   .8300    .94    .0175\n",
    "  9000    1510 1.1210   .8301    .93    .0176\n",
    "*DENSITY *OIL    44.986\n",
    "*GRAVITY *GAS     0.92\n",
    "*DENSITY *WATER  63.021\n",
    "*CO    1.0E-6\n",
    "*BWI   1.0034\n",
    "*CW    1.0E-6\n",
    "*REFPW 3600\n",
    "*VWI   0.96\n",
    "*CVW   0.0\n",
    "```"
   ]
  },
  {
   "cell_type": "markdown",
   "metadata": {},
   "source": [
    "Description of the section, as follow:"
   ]
  },
  {
   "cell_type": "markdown",
   "metadata": {},
   "source": [
    "```\n",
    "*MODEL *BLACKOIL            ** Solve three phase three equations.\n",
    "```\n",
    "\n",
    "**\\*MODEL**, determine the fluid component model. There are 13 in this CMG version (2015), within: \\*OILWATER, \\*GASWATER, \\*VOLATLE_OIL, \\*BLACKOIL, etc. The choosen model here is the \\*BLACKOIL, that consist in modeling the three phase (oil, water, and gas).\n",
    "\n",
    "_REF: mx201510en.pdf pages 489-492_"
   ]
  },
  {
   "cell_type": "markdown",
   "metadata": {},
   "source": [
    "```\n",
    "*TRES 100\n",
    "```\n",
    "\n",
    "**\\*TRES**, set the temperature at the reservoir.\n",
    "\n",
    "_REF: mx201510en.pdf page 493_"
   ]
  },
  {
   "cell_type": "markdown",
   "metadata": {},
   "source": [
    "```\n",
    "*PVT  *ZG\n",
    "** p       rs     bo      zg    viso     visg\n",
    "  14.7       0 1.0000   .9999   1.20    .0125\n",
    "   400     165 1.0120   .8369   1.17    .0130\n",
    "   800     335 1.0255   .8370   1.14    .0135\n",
    "  1200     500 1.0380   .8341   1.11    .0140\n",
    "  1600     665 1.0510   .8341   1.08    .0145\n",
    "  2000     828 1.0630   .8370   1.06    .0150\n",
    "  2400     985 1.0750   .8341   1.03    .0155\n",
    "  2800    1130 1.0870   .8341   1.00    .0160\n",
    "  3200    1270 1.0985   .8398    .98    .0165\n",
    "  3600    1390 1.1100   .8299    .95    .0170\n",
    "  4000    1500 1.1200   .8300    .94    .0175\n",
    "  9000    1510 1.1210   .8301    .93    .0176\n",
    "```\n",
    "\n",
    "**\\*PVT**, defines the start values for PVT talbe for oil and gas tables. \\*EG (for gas expasion factor), \\*BG (for gas formatino volume factor), and \\* ZG (gas compressibility factor) will be used in PVT information. Usuallys the following informatino must be given respecting the order:\n",
    "\n",
    "- p, pressure\n",
    "- rs, solution gas-oil ratio\n",
    "- bo, formation volume factor\n",
    "- one of:\n",
    "    - eg, gas expasion factor\n",
    "    - bg, gas formation volume factor\n",
    "    - zg, gas compressibility factor\n",
    "- viso, viscosity of saturated oil\n",
    "- visg, viscosity at pressure p\n",
    "\n",
    "The table must be given in order of increasing pressure and should extend to above the initial bubble point pressure. Usually the table has at least two sequence of entries. In this case it were set twelve (12) sequence of values, using the \\*ZG (gas compressibility factor).\n",
    "\n",
    "_REF: mx201510en.pdf pages 494-495_"
   ]
  },
  {
   "cell_type": "markdown",
   "metadata": {},
   "source": [
    "```\n",
    "*DENSITY *OIL    44.986\n",
    "*GRAVITY *GAS     0.92\n",
    "*DENSITY *WATER  63.021\n",
    "```\n",
    "\n",
    "**\\*DENSITY**, define the density value for a PVT region. It demands a sub-keyword parameter to set each (\\*OIL, \\*GAS, \\*WATER, or \\*SOLVENT). In this case the \\*OIL and \\*WATER were set.\n",
    "\n",
    "**\\*GRAVITY**, in similar it defines the gravity value for a PVT table, but only for gas.\n",
    "\n",
    "_REF: mx201510en.pdf pages 559-560_"
   ]
  },
  {
   "cell_type": "markdown",
   "metadata": {},
   "source": [
    "```\n",
    "*CO    1.0E-6\n",
    "```\n",
    "\n",
    "**\\*CO**, set the oil compressibility value for a PVT region (If not present in the table as optional content)\n",
    "\n",
    "_REF: mx201510en.pdf page 561_"
   ]
  },
  {
   "cell_type": "markdown",
   "metadata": {},
   "source": [
    "```\n",
    "*BWI   1.0034\n",
    "*CW    1.0E-6\n",
    "*REFPW 3600\n",
    "```\n",
    "\n",
    "**\\*BWI**, set the water formation volume factor, **\\*CW** set water compressibility, and **\\*REFPW** set the reference pressure. All of them as value only (not array).\n",
    "\n",
    "_REF: mx201510en.pdf pages 563-564_"
   ]
  },
  {
   "cell_type": "markdown",
   "metadata": {},
   "source": [
    "```\n",
    "*VWI   0.96\n",
    "*CVW   0.0\n",
    "```\n",
    "\n",
    "**\\*VWI**, sets the water viscosity value, and **\\*CVW** sets the pressure dependence of water viscosity.\n",
    "\n",
    "_REF: mx201510en.pdf pages 565-566_"
   ]
  },
  {
   "cell_type": "markdown",
   "metadata": {},
   "source": [
    "End of section Component Properties\n",
    "\n",
    "---"
   ]
  },
  {
   "cell_type": "markdown",
   "metadata": {},
   "source": [
    "### 1.1.4 Rock-Fluid Data"
   ]
  },
  {
   "cell_type": "markdown",
   "metadata": {},
   "source": [
    "Section related to the rock-fluid data content. The SPE9 files includes:"
   ]
  },
  {
   "cell_type": "markdown",
   "metadata": {},
   "source": [
    "```\n",
    "*ROCKFLUID\n",
    "********************************************************************************\n",
    "** Rock-Fluid Property Section                                                **\n",
    "********************************************************************************\n",
    "*RPT 1\n",
    "\n",
    "\n",
    "*SWT                          ** Water-oil relative permeability table\n",
    "** sw          krw     krow       pcow\n",
    "0.151090       0.0     1.0        400.0\n",
    "0.151230       0.0     0.99997    359.190\n",
    "0.151740       0.0     0.99993    257.920\n",
    "0.152460       0.0     0.99991    186.310\n",
    "0.156470       0.0     0.999510    79.060\n",
    "0.165850       0.0     0.996290    40.010\n",
    "0.178350       0.0     0.991590    27.930\n",
    "0.203350   0.000010    0.978830    20.400\n",
    "0.253350   0.000030    0.943730    15.550\n",
    "0.350000   0.000280    0.830230    11.655\n",
    "0.352000   0.002292    0.804277     8.720\n",
    "0.354000   0.004304    0.778326     5.947\n",
    "0.356000   0.006316    0.752374     3.317\n",
    "0.358000   0.008328    0.726422     1.165\n",
    "0.360000   0.010340    0.700470     0.463\n",
    "0.364395   0.015548    0.642258    -0.499\n",
    "0.368790   0.020756    0.584046    -1.139\n",
    "0.370000   0.022190    0.568020    -1.194\n",
    "0.380000   0.035890    0.434980    -1.547\n",
    "0.400000   0.069530    0.171430    -1.604\n",
    "0.433450   0.087900    0.125310    -1.710\n",
    "0.461390   0.104910    0.094980    -1.780\n",
    "0.489320   0.123290    0.070530    -1.860\n",
    "0.517250   0.143030    0.051130    -1.930\n",
    "0.573120   0.186590    0.024640    -2.070\n",
    "0.601060   0.210380    0.016190    -2.130\n",
    "0.656930   0.261900    0.005940    -2.260\n",
    "0.712800   0.318650    0.001590    -2.380\n",
    "0.811110   0.430920    0.000020    -2.600\n",
    "0.881490   0.490000    0.000000    -2.75\n",
    "\n",
    "*SGT                           ** Liquid-gas relative permeability table\n",
    "** sl        krg    krog   pcog\n",
    "0.000000   0.0000   1.00   0.0\n",
    "0.040000   0.0000   0.60   0.2\n",
    "0.100000   0.0220   0.33   0.5\n",
    "0.200000   0.1000   0.10   1.0\n",
    "0.300000   0.2400   0.02   1.5\n",
    "0.400000   0.3400   0.00   2.0\n",
    "0.500000   0.4200   0.00   2.5\n",
    "0.600000   0.5000   0.00   3.0\n",
    "0.700000   0.8125   0.00   3.5\n",
    "0.848910   1.0000   0.00   3.9\n",
    "\n",
    "```"
   ]
  },
  {
   "cell_type": "markdown",
   "metadata": {},
   "source": [
    "Description of the section, as follow:"
   ]
  },
  {
   "cell_type": "markdown",
   "metadata": {},
   "source": [
    "```\n",
    "*ROCKFLUID\n",
    "```\n",
    "\n",
    "**\\*ROCKFLUID**, Just indicate the start of the section, it is a required keyword. Must be the first keyword in this group (Rock-Fluid Data).\n",
    "\n",
    "_REF: mx201510en.pdf page 590_"
   ]
  },
  {
   "cell_type": "markdown",
   "metadata": {},
   "source": [
    "```\n",
    "*RPT 1\n",
    "```\n",
    "\n",
    "**\\*RPT**, define the relative permeability curves will be defined by table entries. The value used with \\*RTYPE to assign relative permeability curves to grid blocks.\n",
    "\n",
    "_REF: mx201510en.pdf pages 591_"
   ]
  },
  {
   "cell_type": "markdown",
   "metadata": {},
   "source": [
    "```\n",
    "*SWT                          ** Water-oil relative permeability table\n",
    "** sw          krw     krow       pcow\n",
    "0.151090       0.0     1.0        400.0\n",
    "0.151230       0.0     0.99997    359.190\n",
    "0.151740       0.0     0.99993    257.920\n",
    "0.152460       0.0     0.99991    186.310\n",
    "0.156470       0.0     0.999510    79.060\n",
    "0.165850       0.0     0.996290    40.010\n",
    "0.178350       0.0     0.991590    27.930\n",
    "0.203350   0.000010    0.978830    20.400\n",
    "0.253350   0.000030    0.943730    15.550\n",
    "0.350000   0.000280    0.830230    11.655\n",
    "0.352000   0.002292    0.804277     8.720\n",
    "0.354000   0.004304    0.778326     5.947\n",
    "0.356000   0.006316    0.752374     3.317\n",
    "0.358000   0.008328    0.726422     1.165\n",
    "0.360000   0.010340    0.700470     0.463\n",
    "0.364395   0.015548    0.642258    -0.499\n",
    "0.368790   0.020756    0.584046    -1.139\n",
    "0.370000   0.022190    0.568020    -1.194\n",
    "0.380000   0.035890    0.434980    -1.547\n",
    "0.400000   0.069530    0.171430    -1.604\n",
    "0.433450   0.087900    0.125310    -1.710\n",
    "0.461390   0.104910    0.094980    -1.780\n",
    "0.489320   0.123290    0.070530    -1.860\n",
    "0.517250   0.143030    0.051130    -1.930\n",
    "0.573120   0.186590    0.024640    -2.070\n",
    "0.601060   0.210380    0.016190    -2.130\n",
    "0.656930   0.261900    0.005940    -2.260\n",
    "0.712800   0.318650    0.001590    -2.380\n",
    "0.811110   0.430920    0.000020    -2.600\n",
    "0.881490   0.490000    0.000000    -2.75\n",
    "```\n",
    "\n",
    "**\\*SWT**, defines the start values for the water-oil relative permeability table. Usuallys the following information must be given respecting the order:\n",
    "\n",
    "- Sw, water saturation (fraction)\n",
    "- krw, relative permeability to water (fraction)\n",
    "- krow, relative permeability to oil (fraction)\n",
    "- pcow, water-oil capillary pressure\n",
    "- pcowi, water-oil capillary presure (optional)\n",
    "- scorm, irreducible oil saturation (fraction)\n",
    "\n",
    "In this case of SPE9 only sw, krw, krow, and pcow were given.\n",
    "\n",
    "_REF: mx201510en.pdf pages 594-604_"
   ]
  },
  {
   "cell_type": "markdown",
   "metadata": {},
   "source": [
    "```\n",
    "*SGT                           ** Liquid-gas relative permeability table\n",
    "** sl        krg    krog   pcog\n",
    "0.000000   0.0000   1.00   0.0\n",
    "0.040000   0.0000   0.60   0.2\n",
    "0.100000   0.0220   0.33   0.5\n",
    "0.200000   0.1000   0.10   1.0\n",
    "0.300000   0.2400   0.02   1.5\n",
    "0.400000   0.3400   0.00   2.0\n",
    "0.500000   0.4200   0.00   2.5\n",
    "0.600000   0.5000   0.00   3.0\n",
    "0.700000   0.8125   0.00   3.5\n",
    "0.848910   1.0000   0.00   3.9\n",
    "```\n",
    "\n",
    "**\\*SWT**, defines the start of values for liquid-gas relative permeability table depdentend on gas saturation, and \\*SLT the same but for table dependent on liquid saturation. Usuallys the following information must be given respecting the order:\n",
    "\n",
    "- sl, total liquis saturation (fraction)\n",
    "- sg, gas saturation (fraction)\n",
    "- krg, relative permeability to gas (fraction)\n",
    "- krog, relative permeability to oil (fraction)\n",
    "- pcog, gas-oil capillary pressure\n",
    "- pcogi, imbibition gas-oil capillary pressure (optional)\n",
    "\n",
    "In this case of SPE9 only sg (see note bellow), krw, krow, and pcow were given.\n",
    "\n",
    "**IMPORTANTE NOTE:** apparently the comment just after the kweyword SGT is wrong, because it choses to use SGT (gas) and comment sl (liquide) instead of sg. I suppose that \n",
    "\n",
    "_REF: mx201510en.pdf pages 607-617_"
   ]
  },
  {
   "cell_type": "markdown",
   "metadata": {},
   "source": [
    "End of section Component Properties\n",
    "\n",
    "---"
   ]
  },
  {
   "cell_type": "markdown",
   "metadata": {},
   "source": [
    "### 1.1.5 Initial Condition"
   ]
  },
  {
   "cell_type": "markdown",
   "metadata": {},
   "source": [
    "Section related to the initial condiciont settings content. The SPE9 files includes:"
   ]
  },
  {
   "cell_type": "markdown",
   "metadata": {},
   "source": [
    "```\n",
    "*INITIAL\n",
    "********************************************************************************\n",
    "** Initial Conditions Section                                                 **\n",
    "********************************************************************************\n",
    "*VERTICAL *BLOCK_CENTER     ** Use vertical equilibrium calculation.\n",
    "*PB *CON    3600.0          ** buble point pressure\n",
    "*REFDEPTH   9035.           ** Give a reference depth  and\n",
    "*REFPRES    3600.           ** associated pressure.\n",
    "*DWOC       9950.           ** Depth to water-oil contact\n",
    "*DGOC       8800.           ** Depth to gas-oil conttact\n",
    "*DATUMDEPTH 9035.\n",
    "```"
   ]
  },
  {
   "cell_type": "markdown",
   "metadata": {},
   "source": [
    "Description of the section, as follow:"
   ]
  },
  {
   "cell_type": "markdown",
   "metadata": {},
   "source": [
    "```\n",
    "*INITIAL\n",
    "```\n",
    "\n",
    "**\\*INITIAL**, Just indicate the start of the section Initial Conditions, it is a required keyword. Must be the first keyword in this group (Initial Conditions).\n",
    "\n",
    "_REF: mx201510en.pdf page 678_"
   ]
  },
  {
   "cell_type": "markdown",
   "metadata": {},
   "source": [
    "```\n",
    "*VERTICAL *BLOCK_CENTER     ** Use vertical equilibrium calculation.\n",
    "```\n",
    "\n",
    "**\\*USER_INPUT**, **\\*VERTICAL**, to define the reservoir initialization calculation. There are seven ways to do that. In this case SPE9 utilize \\*BLOCK_CENTER. The \\*VERTICAL indicates that pressures are determined from the hydrostatic equations , ant the sub option \\*BLOCK_CENTER of \\*VERTICAL assign block saturations as the saturation prevailing at the block center. Because only \\*VERTICAL and \\*BLACK_OIL is define, by default the \\*WATER_OIL_GAS is assumed.\n",
    "\n",
    "_REF: mx201510en.pdf pages 679-683_"
   ]
  },
  {
   "cell_type": "markdown",
   "metadata": {},
   "source": [
    "```\n",
    "*PB *CON    3600.0          ** buble point pressure\n",
    "```\n",
    "\n",
    "**\\*PB**, an array to define the bubble point pressure for initial conditions. In this case a constant value was given to create the array (\\*CON).\n",
    "\n",
    "_REF: mx201510en.pdf page 689_"
   ]
  },
  {
   "cell_type": "markdown",
   "metadata": {},
   "source": [
    "```\n",
    "*REFDEPTH   9035.           ** Give a reference depth  and\n",
    "*REFPRES    3600.           ** associated pressure.\n",
    "```\n",
    "\n",
    "**\\*REFDEPTH**, is about to set the initial value for reference depth, and **\\*REFPRES**, the initial pressure.\n",
    "\n",
    "_REF: mx201510en.pdf pages 707-708_"
   ]
  },
  {
   "cell_type": "markdown",
   "metadata": {},
   "source": [
    "```\n",
    "*DWOC       9950.           ** Depth to water-oil contact\n",
    "*DGOC       8800.           ** Depth to gas-oil conttact\n",
    "```\n",
    "\n",
    "**\\*DWOC**, set the depth of water-oil contat, **\\*DGOC** for gas-oil contatc, and **\\*DWGC** for water-gas contact depth. The two firs are required in the \\*VERTICAL \\*BLOCK_CENTER \\*WATER_OIL_GAS case (SPE9).\n",
    "\n",
    "_REF: mx201510en.pdf pages 709-711_"
   ]
  },
  {
   "cell_type": "markdown",
   "metadata": {},
   "source": [
    "```\n",
    "*DATUMDEPTH 9035.\n",
    "```\n",
    "\n",
    "**\\*DATUMDEPTH**, specifies the datum depth for pressure printout correction to datum, it is to adjust the pressure information contet.\n",
    "\n",
    "_REF: mx201510en.pdf pages 712-714_"
   ]
  },
  {
   "cell_type": "markdown",
   "metadata": {},
   "source": [
    "End of section Component Properties\n",
    "\n",
    "---"
   ]
  },
  {
   "cell_type": "markdown",
   "metadata": {},
   "source": [
    "### 1.1.6 Numerical Methods Control"
   ]
  },
  {
   "cell_type": "markdown",
   "metadata": {},
   "source": [
    "Section related to the numerical methods control content. The SPE9 files includes:"
   ]
  },
  {
   "cell_type": "markdown",
   "metadata": {},
   "source": [
    "```\n",
    "*NUMERICAL\n",
    "********************************************************************************\n",
    "** Numerical Control Section                                                  **\n",
    "********************************************************************************\n",
    "*DTMAX       60.\n",
    "*MAXSTEPS    300\n",
    "*NORM *PRESS 500.\n",
    "*NORM *SATUR 0.04  ** For this case, a relatively low CPU time is obtained with\n",
    "                   ** a relatively low *NORM *SATUR.\n",
    "                   ** Larger *NORM *SATUR reduce the total number of timesteps\n",
    "                   ** but increase the number of Newton iterations.\n",
    "                   ** The total number of Newton iterations gives a much better\n",
    "                   ** indication of total CPU time than the number of timesteps.\n",
    "                   ** Lower CPU times were obtained using adaptive implicit than\n",
    "                   ** fully implicit.\n",
    "                   ** For a fully implicit version of this case, a *NORM *SATUR\n",
    "                   ** of 0.05 has a lower CPU time than with 0.04.\n",
    "                   ** Fully implicit cases may be run using *AIM *OFF in this\n",
    "                   ** section and in the *RUN section commenting out *AIMWELL\n",
    "                   ** *WELLN and inserting *AIMSET *CON 1.\n",
    "*MAXCHANGE *SATUR 0.10 ** removes a cut a timstep 42 and reduces total Newton\n",
    "                       ** iterations by 3. Default value is 2*(NORM *SATUR)=.8\n",
    "*PRECC 0.005\n",
    "```"
   ]
  },
  {
   "cell_type": "markdown",
   "metadata": {},
   "source": [
    "Description of the section, as follow:"
   ]
  },
  {
   "cell_type": "markdown",
   "metadata": {},
   "source": [
    "```\n",
    "*NUMERICAL\n",
    "```\n",
    "\n",
    "**\\*NUMERICAL**, states the start of the Numerical Methods Control, and it is optional Use only if it is necessary to change any of the default settings.\n",
    "\n",
    "_REF: mx201510en.pdf page 729_"
   ]
  },
  {
   "cell_type": "markdown",
   "metadata": {},
   "source": [
    "```\n",
    "*DTMAX       60.\n",
    "```\n",
    "\n",
    "**\\*DTMAX**, set the maximum time-step size. Default it is 365 days.\n",
    "\n",
    "_REF: mx201510en.pdf page 732_"
   ]
  },
  {
   "cell_type": "markdown",
   "metadata": {},
   "source": [
    "```\n",
    "*MAXSTEPS    300\n",
    "```\n",
    "\n",
    "**\\*MAXSTEPS**, defines the maxium number of timesteps for the simulatino run.\n",
    "\n",
    "_REF: mx201510en.pdf page 730_"
   ]
  },
  {
   "cell_type": "markdown",
   "metadata": {},
   "source": [
    "```\n",
    "*NORM *PRESS 500.\n",
    "*NORM *SATUR 0.04\n",
    "*MAXCHANGE *SATUR 0.10 ** removes a cut a timstep 42 and reduces total Newton\n",
    "                       ** iterations by 3. Default value is 2*(NORM *SATUR)=.8\n",
    "```\n",
    "\n",
    "**\\*NORM**, identifies the typica changes in the basic variables over a timestep, in this case (SPE9) it defines as 500 for pressure (\\*PRESS) and 0.04 for saturations (\\*SATUR).\n",
    "\n",
    "**\\*MAXCHANGE**, identifies whenever a timestep is possible cut if the maximum change in pressure or saturation is greater then the specified.\n",
    "\n",
    "_REF: mx201510en.pdf pages 734-735_"
   ]
  },
  {
   "cell_type": "markdown",
   "metadata": {},
   "source": [
    "```\n",
    "*PRECC 0.005\n",
    "```\n",
    "\n",
    "**\\*PRECC**, speficy the converfence tolerance for the linear equatino solver. The paramter is a tolerance value.\n",
    "\n",
    "_REF: mx201510en.pdf page 750_"
   ]
  },
  {
   "cell_type": "markdown",
   "metadata": {},
   "source": [
    "End of section Component Properties\n",
    "\n",
    "---"
   ]
  },
  {
   "cell_type": "markdown",
   "metadata": {},
   "source": [
    "### 1.1.7 Well and Recurrent Data"
   ]
  },
  {
   "cell_type": "markdown",
   "metadata": {},
   "source": [
    "Section related to the numerical methods control content. The SPE9 files includes:"
   ]
  },
  {
   "cell_type": "markdown",
   "metadata": {},
   "source": [
    "```\n",
    "*RUN\n",
    "********************************************************************************\n",
    "** Well and Recurrent Data Section                                            **\n",
    "********************************************************************************\n",
    "*DATE 1980 01 01\n",
    "*DTWELL 1.00\n",
    "*AIMWELL *WELLNN\n",
    "\n",
    "*GROUP 'ALL-WELLS' *ATTACHTO 'FIELD'\n",
    "*WELL 1   'Injector'   *VERT 24 25  *ATTACHTO 'ALL-WELLS'\n",
    "*WELL 2   'Producer1'  *VERT 5 1    *ATTACHTO 'ALL-WELLS'\n",
    "*WELL 3   'Producer2'  *VERT 8 2    *ATTACHTO 'ALL-WELLS'\n",
    "*WELL 4   'Producer3'  *VERT 11 3   *ATTACHTO 'ALL-WELLS'\n",
    "*WELL 5   'Producer4'  *VERT 10 4   *ATTACHTO 'ALL-WELLS'\n",
    "*WELL 6   'Producer5'  *VERT 12 5   *ATTACHTO 'ALL-WELLS'\n",
    "*WELL 7   'Producer6'  *VERT 4 6    *ATTACHTO 'ALL-WELLS'\n",
    "*WELL 8   'Producer7'  *VERT 8 7    *ATTACHTO 'ALL-WELLS'\n",
    "*WELL 9   'Producer8'  *VERT 14 8   *ATTACHTO 'ALL-WELLS'\n",
    "*WELL 10  'Producer9'  *VERT 11 9   *ATTACHTO 'ALL-WELLS'\n",
    "*WELL 11  'Producer10' *VERT 12 10  *ATTACHTO 'ALL-WELLS'\n",
    "*WELL 12  'Producer11' *VERT 10 11  *ATTACHTO 'ALL-WELLS'\n",
    "*WELL 13  'Producer12' *VERT 5 12   *ATTACHTO 'ALL-WELLS'\n",
    "*WELL 14  'Producer13' *VERT 8 13   *ATTACHTO 'ALL-WELLS'\n",
    "*WELL 15  'Producer14' *VERT 11 14  *ATTACHTO 'ALL-WELLS'\n",
    "*WELL 16  'Producer15' *VERT 13 15  *ATTACHTO 'ALL-WELLS'\n",
    "*WELL 17  'Producer16' *VERT 15 16  *ATTACHTO 'ALL-WELLS'\n",
    "*WELL 18  'Producer17' *VERT 11 17  *ATTACHTO 'ALL-WELLS'\n",
    "*WELL 19  'Producer18' *VERT 12 18  *ATTACHTO 'ALL-WELLS'\n",
    "*WELL 20  'Producer19' *VERT 5 19   *ATTACHTO 'ALL-WELLS'\n",
    "*WELL 21  'Producer20' *VERT 8 20   *ATTACHTO 'ALL-WELLS'\n",
    "*WELL 22  'Producer21' *VERT 11 21  *ATTACHTO 'ALL-WELLS'\n",
    "*WELL 23  'Producer22' *VERT 15 22  *ATTACHTO 'ALL-WELLS'\n",
    "*WELL 24  'Producer23' *VERT 12 23  *ATTACHTO 'ALL-WELLS'\n",
    "*WELL 25  'Producer24' *VERT 10 24  *ATTACHTO 'ALL-WELLS'\n",
    "*WELL 26  'Producer25' *VERT 17 25  *ATTACHTO 'ALL-WELLS'\n",
    "\n",
    "** The minimum flowing bottomhole pressure was set to 1000 psia for\n",
    "** all producers with a reference depth of 9110 feet for this pressue\n",
    "** in all wells. Therefore, they are adjusted accordingly in IMEX.\n",
    "\n",
    "** The geofac=0.355 is used for all wells to match the effective\n",
    "** well radius (0.2*DX = 60 feet) specified in the paper SPE 29110\n",
    "\n",
    "*INJECTOR  1\n",
    "*INCOMP *WATER\n",
    "*OPERATE  *MAX  *STW  5000.0\n",
    "*OPERATE  *MAX  *BHP 4543.39\n",
    "\n",
    "** Well geometry for the water injector.\n",
    "**            rad    geofac  wfrac   skin\n",
    "*GEOMETRY *K  0.5     0.355    1.0    0.0\n",
    "\n",
    "*PERFV *GEO 1\n",
    "**  kf      ff\n",
    "   11:15     1\n",
    "\n",
    "*PRODUCER  2\n",
    "*OPERATE *MAX  *STO 1500.0\n",
    "*OPERATE *MIN  *BHP  1064.77\n",
    "\n",
    "*PRODUCER  3\n",
    "*OPERATE *MAX  *STO 1500.0\n",
    "*OPERATE *MIN  *BHP  1125.76\n",
    "\n",
    "*PRODUCER  4\n",
    "*OPERATE *MAX  *STO 1500.0\n",
    "*OPERATE *MIN  *BHP  1186.75\n",
    "\n",
    "*PRODUCER  5\n",
    "*OPERATE *MAX  *STO 1500.0\n",
    "*OPERATE *MIN  *BHP  1166.42\n",
    "\n",
    "*PRODUCER  6\n",
    "*OPERATE *MAX  *STO 1500.0\n",
    "*OPERATE *MIN  *BHP  1207.08\n",
    "\n",
    "*PRODUCER  7\n",
    "*OPERATE *MAX  *STO 1500.0\n",
    "*OPERATE *MIN  *BHP  1044.44\n",
    "\n",
    "*PRODUCER  8\n",
    "*OPERATE *MAX  *STO 1500.0\n",
    "*OPERATE *MIN  *BHP  1125.76\n",
    "\n",
    "*PRODUCER  9\n",
    "*OPERATE *MAX  *STO 1500.0\n",
    "*OPERATE *MIN  *BHP  1247.7\n",
    "\n",
    "*PRODUCER  10\n",
    "*OPERATE *MAX  *STO 1500.0\n",
    "*OPERATE *MIN  *BHP  1186.75\n",
    "\n",
    "*PRODUCER  11\n",
    "*OPERATE *MAX  *STO 1500.0\n",
    "*OPERATE *MIN  *BHP  1207.08\n",
    "\n",
    "*PRODUCER  12\n",
    "*OPERATE *MAX  *STO 1500.0\n",
    "*OPERATE *MIN  *BHP  1166.42\n",
    "\n",
    "*PRODUCER  13\n",
    "*OPERATE *MAX  *STO 1500.0\n",
    "*OPERATE *MIN  *BHP  1064.77\n",
    "\n",
    "*PRODUCER  14\n",
    "*OPERATE *MAX  *STO 1500.0\n",
    "*OPERATE *MIN  *BHP  1125.76\n",
    "\n",
    "*PRODUCER  15\n",
    "*OPERATE *MAX  *STO 1500.0\n",
    "*OPERATE *MIN  *BHP  1186.75\n",
    "\n",
    "*PRODUCER  16\n",
    "*OPERATE *MAX  *STO 1500.0\n",
    "*OPERATE *MIN  *BHP  1227.37\n",
    "\n",
    "*PRODUCER  17\n",
    "*OPERATE *MAX  *STO 1500.0\n",
    "*OPERATE *MIN  *BHP  1268.03\n",
    "\n",
    "*PRODUCER  18\n",
    "*OPERATE *MAX  *STO 1500.0\n",
    "*OPERATE *MIN  *BHP  1166.42\n",
    "\n",
    "*PRODUCER  19\n",
    "*OPERATE *MAX  *STO 1500.0\n",
    "*OPERATE *MIN  *BHP  1207.08\n",
    "\n",
    "*PRODUCER  20\n",
    "*OPERATE *MAX  *STO 1500.0\n",
    "*OPERATE *MIN  *BHP  1064.77\n",
    "\n",
    "*PRODUCER  21\n",
    "*OPERATE *MAX  *STO 1500.0\n",
    "*OPERATE *MIN  *BHP  1125.76\n",
    "\n",
    "*PRODUCER  22\n",
    "*OPERATE *MAX  *STO 1500.0\n",
    "*OPERATE *MIN  *BHP  1186.75\n",
    "\n",
    "*PRODUCER  23\n",
    "*OPERATE *MAX  *STO 1500.0\n",
    "*OPERATE *MIN  *BHP  1268.03\n",
    "\n",
    "*PRODUCER  24\n",
    "*OPERATE *MAX  *STO 1500.0\n",
    "*OPERATE *MIN  *BHP  1207.08\n",
    "\n",
    "*PRODUCER  25\n",
    "*OPERATE *MAX  *STO 1500.0\n",
    "*OPERATE *MIN  *BHP  1166.42\n",
    "\n",
    "*PRODUCER  26\n",
    "*OPERATE *MAX  *STO 1500.0\n",
    "*OPERATE *MIN  *BHP   1308.69\n",
    "\n",
    "** Well geometry for the producers.\n",
    "**            rad    geofac  wfrac   skin\n",
    "*GEOMETRY *K  0.5     0.355    1.0    0.0\n",
    "\n",
    "\n",
    "*PERFV *GEO 2:26\n",
    "** kf     ff\n",
    "   2:4     1\n",
    "\n",
    "*TIME   1\n",
    "*DTWELL 1.0\n",
    "*TIME  50\n",
    "*TIME 100\n",
    "*TIME 200\n",
    "\n",
    "*TIME 300\n",
    "*ALTER 2:26\n",
    "25*100\n",
    "\n",
    "*TIME 360\n",
    "*ALTER 2:26\n",
    "25*1500\n",
    "\n",
    "*TIME 420\n",
    "*TIME 480\n",
    "*TIME 540\n",
    "*TIME 600\n",
    "*TIME 660\n",
    "*TIME 720\n",
    "*WPRN *WELL *TIME\n",
    "*WSRF *GRID *TIME\n",
    "*TIME 900\n",
    "*STOP\n",
    "```"
   ]
  },
  {
   "cell_type": "markdown",
   "metadata": {},
   "source": [
    "Description of the section, as follow:"
   ]
  },
  {
   "cell_type": "markdown",
   "metadata": {},
   "source": [
    "```\n",
    "\n",
    "```\n",
    "\n",
    "**\\*a**, . \\*BLACKOIL, that consist in modeling the three phase (oil, water, and gas).\n",
    "\n",
    "_REF: mx201510en.pdf pages 4-4_"
   ]
  },
  {
   "cell_type": "markdown",
   "metadata": {},
   "source": [
    "```\n",
    "\n",
    "```\n",
    "\n",
    "**\\*a**, . \\*BLACKOIL, that consist in modeling the three phase (oil, water, and gas).\n",
    "\n",
    "_REF: mx201510en.pdf pages 4-4_"
   ]
  }
 ],
 "metadata": {
  "kernelspec": {
   "display_name": "Python 3",
   "language": "python",
   "name": "python3"
  },
  "language_info": {
   "codemirror_mode": {
    "name": "ipython",
    "version": 3
   },
   "file_extension": ".py",
   "mimetype": "text/x-python",
   "name": "python",
   "nbconvert_exporter": "python",
   "pygments_lexer": "ipython3",
   "version": "3.7.4"
  },
  "pycharm": {
   "stem_cell": {
    "cell_type": "raw",
    "metadata": {
     "collapsed": false
    },
    "source": []
   }
  }
 },
 "nbformat": 4,
 "nbformat_minor": 1
}
