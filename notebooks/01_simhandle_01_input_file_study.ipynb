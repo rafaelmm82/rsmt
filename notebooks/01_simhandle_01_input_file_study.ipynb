{
 "cells": [
  {
   "cell_type": "markdown",
   "metadata": {
    "collapsed": true
   },
   "source": [
    "# 01 - SimHandle\n"
   ]
  },
  {
   "cell_type": "markdown",
   "metadata": {},
   "source": [
    "## 1.1 - Input Data File Study and Understanding"
   ]
  },
  {
   "cell_type": "markdown",
   "metadata": {},
   "source": [
    "The file used to study is the one used during the PhD experiments, namely \"*spe9imex.dat*\". A description of it could be found in Report file with \"*Research Diary (Journal) - LaMEP - Rafael.docx*\" in \"*doc/*\" directory, in the section \"*DS1 - SPE 9*\".\n",
    "\n",
    "After conducting a software documentation search, I started and spent a big time of this analysis using a trial/edit/simulation/error process. Hopefully I did reach the files related to one seminar given by the Professor Mahmoud Reza Pishvaie (in Sharif University of Technology). Thank you! They are in the \"*doc/references*\" folder.\n",
    "\n",
    "Later I got access to the oficial documentation \"*mx201510en*\" in pdf and windows html helper documents. Of course, this explainned almost everything quite well.\n",
    "\n",
    "Only parts of the \"*spe9imex.dat*\" are presented here to make easier to understand and to present. The original content has 2669 lines."
   ]
  },
  {
   "cell_type": "markdown",
   "metadata": {},
   "source": [
    "Usually each DataSet file is composed of seven (7) related parts (groups), including:\n",
    "\n",
    "1. **Input/Output Control**\n",
    "2. **Reservoir Description**\n",
    "3. **Component Properties**\n",
    "4. **Rock-Fluid Data**\n",
    "5. **Initial Conditions**\n",
    "6. **Numerical Methods Control**\n",
    "7. **Well and Recurrent Data**\n",
    "\n",
    "Keywords composing the Dataset usually are allowed only in its own section (group). The order of them is important too."
   ]
  },
  {
   "cell_type": "markdown",
   "metadata": {},
   "source": [
    "The File starts with an comment header descriptor, and after the first run, using IMEX simulator, one additional line is added in the end of this section, like this:"
   ]
  },
  {
   "cell_type": "markdown",
   "metadata": {},
   "source": [
    "```\n",
    "**************************************************************************************\n",
    "**                                                                                  **\n",
    "** MODEL:  24x25x15                SPE 9                  3-D HETEROGENEOUS EXAMPLE **\n",
    "**                                                                                  **\n",
    "**************************************************************************************\n",
    "**                                                                                  **\n",
    "** Ninth Comparative Solution Project:  Killough, J.E., \"Ninth SPE Comparative      **\n",
    "** Solution Project: A Reexamination of Black-Oil Simulation\", Thirteenth SPE       **\n",
    "** Symposium on Reservoir Simulation, 1995 (SPE 29110). This is 24 x 25 x 15        **\n",
    "** heterogeneous Cartesian grid problem with a water injector located at (24,25)    **\n",
    "** and 25 producers.                                                                **\n",
    "**************************************************************************************                                \n",
    "** 2019-11-05, 08:13:57, Usuario\n",
    "```"
   ]
  },
  {
   "cell_type": "markdown",
   "metadata": {},
   "source": [
    "It is followed by a line saying the software simulator for this specific content"
   ]
  },
  {
   "cell_type": "markdown",
   "metadata": {},
   "source": [
    "```\n",
    "RESULTS SIMULATOR IMEX\n",
    "```"
   ]
  },
  {
   "cell_type": "markdown",
   "metadata": {},
   "source": [
    "### 1.1.1 - Input/Output Control"
   ]
  },
  {
   "cell_type": "markdown",
   "metadata": {},
   "source": [
    "A sequence of content related to the group I/O inputed is related in the following section:"
   ]
  },
  {
   "cell_type": "markdown",
   "metadata": {},
   "source": [
    "```\n",
    "********************************************************************************\n",
    "** I/O Control Section                                                        **\n",
    "********************************************************************************\n",
    "\n",
    "*TITLE1\n",
    "'Ninth SPE Comparative Solution Project'\n",
    "*TITLE2\n",
    "'STONE2, 3-D HETEROGENEOUS EXAMPLE'\n",
    "*TITLE3\n",
    "'Killough, 13th SPE Res Sim Symp, 1995'\n",
    "\n",
    "*NOLIST\n",
    "*INUNIT *FIELD              ** Field units are used for both input and output.\n",
    "\n",
    "*WPRN   *WELL 0\n",
    "*WPRN   *GRID 0\n",
    "*OUTPRN *GRID *PRES *SO *SW  *SG\n",
    "*OUTPRN *TABLES *NONE\n",
    "\n",
    "*WSRF   *GRID   *TIME\n",
    "*WSRF   *WELL   *TIME\n",
    "*OUTSRF *GRID *SO *SW  *SG  *PRES\n",
    "\n",
    "*OUTSRF *SPECIAL 1 1 1 PRES\n",
    "*OUTSRF *SPECIAL 24 25 11 PRES\n",
    "*OUTSRF *SPECIAL 24 25 12 PRES\n",
    "*OUTSRF *SPECIAL 24 25 13 PRES\n",
    "*OUTSRF *SPECIAL 24 25 14 PRES\n",
    "*OUTSRF *SPECIAL 24 25 15 PRES\n",
    "*OUTSRF *SPECIAL 8 13 2 PRES\n",
    "*OUTSRF *SPECIAL 8 13 3 PRES\n",
    "*OUTSRF *SPECIAL 8 13 4 PRES\n",
    "\n",
    "*OUTSRF *SPECIAL 1 13 1 SG\n",
    "*OUTSRF *SPECIAL 5 13 1 SG\n",
    "*OUTSRF *SPECIAL 10 13 1 SG\n",
    "*OUTSRF *SPECIAL 15 13 1 SG\n",
    "\n",
    "*OUTSRF *SPECIAL 24 25 1 SW\n",
    "*OUTSRF *SPECIAL 20 25 1 SW\n",
    "*OUTSRF *SPECIAL 15 25 1 SW\n",
    "*OUTSRF *SPECIAL 10 25 1 SW\n",
    "\n",
    "*OUTDIARY  *WELLSTATUS\n",
    "```"
   ]
  },
  {
   "cell_type": "markdown",
   "metadata": {},
   "source": [
    "About the last section I got these descriptions:\n",
    "\n",
    "``` *TITLE ```\n",
    "\n",
    "``` 'string description' ```\n",
    "\n",
    "as the name explicit, it is related to different titles sections and reservoir descriptions with multilevel description (Titles) to make it manageble by the users.\n",
    "\n",
    "_REF: mx201510en.pdf pages 87, 265-268_"
   ]
  },
  {
   "cell_type": "markdown",
   "metadata": {},
   "source": [
    "``` *NOLIST ```\n",
    "\n",
    "``` *INUNIT *FIELD ```\n",
    "\n",
    "**\\*NOLIST** specifies that not include the input data file into the output print file, starting immediately after the current line.\n",
    "\n",
    "_REF: mx201510en.pdf page 219_\n",
    "\n",
    "**\\*INUNIT** specifies the input data units, usually one of: SI (standard international system), FIELD (field units, most used in oil/gas industry), LAB (laboratory units), or MODSI (modified SI system). Defaults is SI, that why it was set to \\*FIELD in this file.\n",
    "\n",
    "_REF: mx201510en.pdf page 275_"
   ]
  },
  {
   "cell_type": "markdown",
   "metadata": {},
   "source": [
    "``` *WPRN   *WELL 0 ```\n",
    "\n",
    "``` *WPRN   *GRID 0 ```\n",
    "\n",
    "``` *OUTPRN *GRID *PRES *SO *SW  *SG ```\n",
    "\n",
    "``` *OUTPRN *TABLES *NONE ```\n",
    "\n",
    "The **\\*WPRN** and **\\*OUTPRN** keywords are related to the what and within frequency contents muts appears in output file. They can appear in this \\[1\\] I/O Control Group Section and also later in  the \\[7\\] Well and Recurent Data Section.\n",
    "\n",
    "The **\\*WPRN** is relative to how frequently the information related to GRID, WELL and LAYERS needs to be put in output file. The default pattern is relative to print everything at each *TIME defined in the file. If no information was demanded put a 0 following the name ot the property.\n",
    "\n",
    "In this file \\*WPRN is setting well and grid to output nothing, but later in the last KW group section it appears again saying to store well and grid properties at each timestep.\n",
    "\n",
    "Also, \\*OUTPRNT keyword here is saying to store grid data properties related to pressure, oil saturation, water saturation, and gas saturation.\n",
    "\n",
    "_REF: mx201510en.pdf page 90, 286-296_\n",
    "\n"
   ]
  },
  {
   "cell_type": "markdown",
   "metadata": {},
   "source": [
    "``` *WSRF   *GRID   *TIME ```\n",
    "\n",
    "``` *WSRF   *WELL   *TIME ```\n",
    "\n",
    "``` *OUTSRF *GRID *SO *SW  *SG  *PRES ```\n",
    "\n",
    "``` *OUTSRF *SPECIAL 1 1 1 PRES ```\n",
    "\n",
    "``` *OUTSRF *SPECIAL 24 25 11 PRES ```\n",
    "\n",
    "...\n",
    "\n",
    "``` *OUTSRF *SPECIAL 1 13 1 SG ```\n",
    "\n",
    "...\n",
    "\n",
    "``` *OUTSRF *SPECIAL 24 25 1 SW ```\n",
    "\n",
    "...\n",
    "\n",
    "\n",
    "The **\\*WSRF** and **\\*OUTSRF** keywords follows the same behavior of the earlier commands but are related to the what and within frequency contents muts appears in SR2 file for graphical displaying. They can appear in this \\[1\\] I/O Control Group Section and also later in  the \\[7\\] Well and Recurent Data Section.\n",
    "\n",
    "The **\\*WSRF** is relative to how frequently the information related to GRID, WELL and LAYERS needs to be put in output file. The default pattern is relative to print everything at each *TIME defined in the file. If no information was demanded put a 0 following the name ot the property.\n",
    "\n",
    "In this file \\*WSRF is setting well and grid to output at each time defined in the final section.\n",
    "\n",
    "Also, \\*OUTSRF keyword here is saying to store grid data properties related to oil saturation, water saturation, gas saturation, and pressure. A lot of \\*SPECIAL registers were set to specific plotting.\n",
    "\n",
    "_REF: mx201510en.pdf page 91, 297-305_\n",
    "\n"
   ]
  },
  {
   "cell_type": "markdown",
   "metadata": {},
   "source": [
    "``` *OUTDIARY  *WELLSTATUS ```\n",
    "\n",
    "The **\\*OUTDIARY** controls part of the informatino in the output diary file. Because the \\*WELL STATUS appears sequentially it denotes that the saturations (oil, gas, water) and pressure of all injection/production wells will be written.\n",
    "\n",
    "_REF: mx201510en.pdf page 306-307_"
   ]
  },
  {
   "cell_type": "markdown",
   "metadata": {},
   "source": [
    "### 1.1.2 - Reservoir Description"
   ]
  },
  {
   "cell_type": "markdown",
   "metadata": {},
   "source": [
    "A sequence of content related to the group Reservoir Description is related in the following section:"
   ]
  },
  {
   "cell_type": "markdown",
   "metadata": {},
   "source": [
    "```\n",
    "********************************************************************************\n",
    "** Reservoir Description Section                                              **\n",
    "********************************************************************************\n",
    "\n",
    "*GRID *CART 24 25  15       ** 24 blocks in the I(x)& 25 in the J(y) directions.\n",
    "                            ** 15 layers in the K (z) direction.\n",
    "*KDIR *DOWN                 ** K=1 for top layer, K=15 for bottom layer\n",
    "\n",
    "*DI *CON 300.0              ** I direction block dimensions\n",
    "\n",
    "*DJ *CON 300.0              ** J direction block dimensions\n",
    "\n",
    "*DK *KVAR                   ** K direction block dimensions (layer thicknesses)\n",
    "20 15 26 15 16 14 8 8 18 12 19 18 20 50 100\n",
    "\n",
    "*DEPTH 1 1 1 9010.          ** Depth to center of first block, in top layer.\n",
    "*DIP -10.0 0.0               ** Reservoir dips 10 degrees in the I direction.\n",
    "                            ** No dip in the J direction\n",
    "\n",
    "*POR *KVAR                  ** Porosity is constant for each layer\n",
    "                            ** but vary by layer\n",
    ".087 .097 .111 .16 .13 .17 .17 .08 .14 .13 .12 .105 .12 .116 .157\n",
    "\n",
    "*CPOR   1.0E-6              ** Rock compressibility and\n",
    "*PRPOR 3600.0               ** reference pressure.\n",
    "\n",
    "*PERMI *ALL                 ** An array of geostatistically distributed\n",
    "                            ** values is used for permeability in I direction.\n",
    "** LAYER  1\n",
    "** ROW    1\n",
    "       49.29276      162.25308      438.45926      492.32336      791.32867\n",
    "      704.17102      752.34912      622.96875      542.24493      471.45953\n",
    "      246.12650       82.07828       82.87408      101.65224       57.53632\n",
    "       47.73741       55.07134       24.33975       41.06571       76.64680\n",
    "      158.22012       84.31137       98.32045       67.18009\n",
    "** ROW    2\n",
    "       59.36459       32.75453       48.89822       78.56290      152.85838\n",
    "       48.61450       45.90883       49.59706       87.95659       63.36467\n",
    "       36.76624       22.82411       12.88787        7.30505        7.74248\n",
    "       11.78211       23.77054      123.28667      618.79059      535.32922\n",
    "      264.58759      387.70538      682.85431      823.64056\n",
    "** ROW    3\n",
    "\n",
    "...\n",
    "\n",
    "** ROW    24\n",
    "       39.32721       44.30146       56.55714      125.19577       85.31541\n",
    "       80.05965       76.22941       64.71399       20.18338       17.06875\n",
    "       33.89415       39.89968       24.17484       22.23781       33.97250\n",
    "       33.50774       21.87134        8.44310        6.99710       10.30638\n",
    "        7.77214       11.00815       12.07220       29.88515\n",
    "** ROW    25\n",
    "       67.42879      167.64226      167.21396      293.34863      348.70944\n",
    "      499.50162      162.70255       91.16136       46.47388       39.21331\n",
    "       11.85997       12.08859       18.62917       21.50725       36.22818\n",
    "       44.15623       37.72081       72.00138       67.82285      182.54388\n",
    "      117.36562      126.18334       95.86160      123.95855\n",
    "** LAYER  2\n",
    "** LAYER  3\n",
    " \n",
    " ...\n",
    " \n",
    "** LAYER  14\n",
    "** LAYER  15\n",
    "** ROW    1\n",
    "       16.10543       11.42444        9.40110       17.90929       13.42825\n",
    "        9.31416        7.36817       38.21529       48.50117       42.75115\n",
    "       30.82360       21.55525       12.68888        5.06726        2.52429\n",
    "        1.10382        1.42259        1.25391        1.83292        1.81990\n",
    "        1.86886        2.06910        2.12947        1.51879\n",
    "** ROW    2\n",
    "        1.18379        2.26189        2.61705        5.99524       10.31299\n",
    "       15.17937       32.40075       33.90037      109.47345      261.72995\n",
    "      238.24753      206.15742      121.33305      242.47713      166.94165\n",
    "      146.50681       13.91259        7.39986        5.83849        6.06996\n",
    "        7.95473        8.99119       13.17873       39.65227\n",
    "\n",
    "...\n",
    "\n",
    "** ROW    24\n",
    "        7.89712        4.95030        5.71962        7.83024       11.71794\n",
    "       23.62131       33.05274       70.84187        7.38943        7.49921\n",
    "       11.69680       10.97819       14.39844       22.66654       28.41940\n",
    "       24.50287       13.19070       14.89152       24.02716       24.94995\n",
    "       19.09564        8.27764       22.19613       17.68164\n",
    "** ROW    25\n",
    "       22.53480       17.92533        8.57474       10.12566       17.64281\n",
    "        8.75865        6.21574        3.95186        8.25921       28.63912\n",
    "       23.45510       23.26124       26.54238       18.81447       13.00590\n",
    "       16.30125       11.36926        9.55338        3.51044       11.66872\n",
    "        7.39936       19.01242       38.47255       47.05342\n",
    "\n",
    "*PERMJ *EQUALSI             ** J-direction permeability same as I-direction\n",
    "*PERMK *EQUALSI * 0.01      ** K-direction permeability = 0.01 I-direction k\n",
    "\n",
    "*MODEL *BLACKOIL            ** Solve three phase three equations.\n",
    "```"
   ]
  },
  {
   "cell_type": "code",
   "execution_count": 2,
   "metadata": {},
   "outputs": [
    {
     "ename": "SyntaxError",
     "evalue": "invalid syntax (<ipython-input-2-b339d97e6fbd>, line 1)",
     "output_type": "error",
     "traceback": [
      "\u001b[1;36m  File \u001b[1;32m\"<ipython-input-2-b339d97e6fbd>\"\u001b[1;36m, line \u001b[1;32m1\u001b[0m\n\u001b[1;33m    ``` *GRID *CART 24 25  15       ** 24 blocks in the I(x)& 25 in the J(y) directions. ```\u001b[0m\n\u001b[1;37m    ^\u001b[0m\n\u001b[1;31mSyntaxError\u001b[0m\u001b[1;31m:\u001b[0m invalid syntax\n"
     ]
    }
   ],
   "source": [
    "``` *GRID *CART 24 25  15       ** 24 blocks in the I(x)& 25 in the J(y) directions. ```\n",
    "```                             ** 15 layers in the K (z) direction.```\n",
    "\n",
    "``` *INUNIT *FIELD ```\n",
    "\n",
    "**\\*NOLIST** specifies that not include the input data file into the output print file, starting immediately after the current line.\n",
    "\n",
    "_REF: mx201510en.pdf page 219_\n",
    "\n",
    "**\\*INUNIT** specifies the input data units, usually one of: SI (standard international system), FIELD (field units, most used in oil/gas industry), LAB (laboratory units), or MODSI (modified SI system). Defaults is SI, that why it was set to \\*FIELD in this file.\n",
    "\n",
    "_REF: mx201510en.pdf page 275_"
   ]
  },
  {
   "cell_type": "code",
   "execution_count": null,
   "metadata": {},
   "outputs": [],
   "source": []
  },
  {
   "cell_type": "code",
   "execution_count": null,
   "metadata": {},
   "outputs": [],
   "source": []
  }
 ],
 "metadata": {
  "kernelspec": {
   "display_name": "Python 3",
   "language": "python",
   "name": "python3"
  },
  "language_info": {
   "codemirror_mode": {
    "name": "ipython",
    "version": 3
   },
   "file_extension": ".py",
   "mimetype": "text/x-python",
   "name": "python",
   "nbconvert_exporter": "python",
   "pygments_lexer": "ipython3",
   "version": "3.7.4"
  }
 },
 "nbformat": 4,
 "nbformat_minor": 1
}
