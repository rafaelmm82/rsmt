{
 "cells": [
  {
   "cell_type": "markdown",
   "metadata": {
    "collapsed": true
   },
   "source": [
    "# 01 - SimHandle\n"
   ]
  },
  {
   "cell_type": "markdown",
   "metadata": {},
   "source": [
    "## 1.1 - Input Data File Study and Understanding"
   ]
  },
  {
   "cell_type": "markdown",
   "metadata": {},
   "source": [
    "The file used to study is the one used during the PhD experiments, namely \"*spe9imex.dat*\". A description of it could be found in Report file with \"*Research Diary (Journal) - LaMEP - Rafael.docx*\" in \"*doc/*\" directory, in the section \"*DS1 - SPE 9*\".\n",
    "\n",
    "After conducting a software documentation search, I started and spent a big time of this analysis using a trial/edit/simulation/error process. Hopefully I did reach the files related to one seminar given by the Professor Mahmoud Reza Pishvaie (in Sharif University of Technology). Thank you! They are in the \"*doc/references*\" folder.\n",
    "\n",
    "Later I got access to the oficial documentation \"*mx201510en*\" in pdf and windows html helper documents. Of course, this explainned almost everything quite well.\n",
    "\n",
    "Only parts of the \"*spe9imex.dat*\" are presented here to make easier to understand and to present. The original content has 2669 lines."
   ]
  },
  {
   "cell_type": "markdown",
   "metadata": {},
   "source": [
    "Usually each DataSet file is composed of seven (7) related parts (groups), including:\n",
    "\n",
    "1. **Input/Output Control**\n",
    "2. **Reservoir Description**\n",
    "3. **Component Properties**\n",
    "4. **Rock-Fluid Data**\n",
    "5. **Initial Conditions**\n",
    "6. **Numerical Methods Control**\n",
    "7. **Well and Recurrent Data**\n",
    "\n",
    "Keywords composing the Dataset usually are allowed only in its own section (group). The order of them is important too."
   ]
  },
  {
   "cell_type": "markdown",
   "metadata": {},
   "source": [
    "The File starts with an comment header descriptor, and after the first run, using IMEX simulator, one additional line is added in the end of this section, like this:"
   ]
  },
  {
   "cell_type": "markdown",
   "metadata": {},
   "source": [
    "```\n",
    "**************************************************************************************\n",
    "**                                                                                  **\n",
    "** MODEL:  24x25x15                SPE 9                  3-D HETEROGENEOUS EXAMPLE **\n",
    "**                                                                                  **\n",
    "**************************************************************************************\n",
    "**                                                                                  **\n",
    "** Ninth Comparative Solution Project:  Killough, J.E., \"Ninth SPE Comparative      **\n",
    "** Solution Project: A Reexamination of Black-Oil Simulation\", Thirteenth SPE       **\n",
    "** Symposium on Reservoir Simulation, 1995 (SPE 29110). This is 24 x 25 x 15        **\n",
    "** heterogeneous Cartesian grid problem with a water injector located at (24,25)    **\n",
    "** and 25 producers.                                                                **\n",
    "**************************************************************************************                                \n",
    "** 2019-11-05, 08:13:57, Usuario\n",
    "```"
   ]
  },
  {
   "cell_type": "markdown",
   "metadata": {},
   "source": [
    "It is followed by a line saying the software simulator for this specific content"
   ]
  },
  {
   "cell_type": "markdown",
   "metadata": {},
   "source": [
    "```\n",
    "RESULTS SIMULATOR IMEX\n",
    "```"
   ]
  },
  {
   "cell_type": "markdown",
   "metadata": {},
   "source": [
    "### 1.1.1 - Input/Output Control"
   ]
  },
  {
   "cell_type": "markdown",
   "metadata": {},
   "source": [
    "A sequence of content related to the group I/O inputed is related in the following section:"
   ]
  },
  {
   "cell_type": "markdown",
   "metadata": {},
   "source": [
    "```\n",
    "********************************************************************************\n",
    "** I/O Control Section                                                        **\n",
    "********************************************************************************\n",
    "\n",
    "*TITLE1\n",
    "'Ninth SPE Comparative Solution Project'\n",
    "*TITLE2\n",
    "'STONE2, 3-D HETEROGENEOUS EXAMPLE'\n",
    "*TITLE3\n",
    "'Killough, 13th SPE Res Sim Symp, 1995'\n",
    "\n",
    "*NOLIST\n",
    "*INUNIT *FIELD              ** Field units are used for both input and output.\n",
    "\n",
    "*WPRN   *WELL 0\n",
    "*WPRN   *GRID 0\n",
    "*OUTPRN *GRID *PRES *SO *SW  *SG\n",
    "*OUTPRN *TABLES *NONE\n",
    "\n",
    "*WSRF   *GRID   *TIME\n",
    "*WSRF   *WELL   *TIME\n",
    "*OUTSRF *GRID *SO *SW  *SG  *PRES\n",
    "\n",
    "*OUTSRF *SPECIAL 1 1 1 PRES\n",
    "*OUTSRF *SPECIAL 24 25 11 PRES\n",
    "*OUTSRF *SPECIAL 24 25 12 PRES\n",
    "*OUTSRF *SPECIAL 24 25 13 PRES\n",
    "*OUTSRF *SPECIAL 24 25 14 PRES\n",
    "*OUTSRF *SPECIAL 24 25 15 PRES\n",
    "*OUTSRF *SPECIAL 8 13 2 PRES\n",
    "*OUTSRF *SPECIAL 8 13 3 PRES\n",
    "*OUTSRF *SPECIAL 8 13 4 PRES\n",
    "\n",
    "*OUTSRF *SPECIAL 1 13 1 SG\n",
    "*OUTSRF *SPECIAL 5 13 1 SG\n",
    "*OUTSRF *SPECIAL 10 13 1 SG\n",
    "*OUTSRF *SPECIAL 15 13 1 SG\n",
    "\n",
    "*OUTSRF *SPECIAL 24 25 1 SW\n",
    "*OUTSRF *SPECIAL 20 25 1 SW\n",
    "*OUTSRF *SPECIAL 15 25 1 SW\n",
    "*OUTSRF *SPECIAL 10 25 1 SW\n",
    "\n",
    "*OUTDIARY  *WELLSTATUS\n",
    "```"
   ]
  },
  {
   "cell_type": "markdown",
   "metadata": {},
   "source": [
    "About the last section I got these descriptions:\n",
    "\n",
    "``` *TITLE ```\n",
    "\n",
    "``` 'string description' ```\n",
    "\n",
    "as the name explicit, it is related to different titles sections and reservoir descriptions with multilevel description (Titles) to make it manageble by the users.\n",
    "\n",
    "_REF: mx201510en.pdf pages 87, 265-268_"
   ]
  },
  {
   "cell_type": "markdown",
   "metadata": {},
   "source": [
    "``` *NOLIST ```\n",
    "\n",
    "``` *INUNIT *FIELD ```\n",
    "\n",
    "**\\*NOLIST** specifies that not include the input data file into the output print file, starting immediately after the current line.\n",
    "\n",
    "_REF: mx201510en.pdf page 219 _\n",
    "\n",
    "**\\*INUNIT** specifies the input data units, usually one of: SI (standard international system), FIELD (field units, most used in oil/gas industry), LAB (laboratory units), or MODSI (modified SI system). Defaults is SI, that why it was set to \\*FIELD in this file.\n",
    "\n",
    "_REF: mx201510en.pdf page 275 _"
   ]
  },
  {
   "cell_type": "markdown",
   "metadata": {},
   "source": [
    "``` *WPRN   *WELL 0 ```\n",
    "\n",
    "``` *WPRN   *GRID 0 ```\n",
    "\n",
    "``` *OUTPRN *GRID *PRES *SO *SW  *SG ```\n",
    "\n",
    "``` *OUTPRN *TABLES *NONE ```\n",
    "\n",
    "The **\\*WPRN** and **\\*OUTPRN** keywords are related to the what and within frequency contents muts appears in output file. They can appear in this \\[1\\] I/O Control Group Section and also later in  the \\[7\\] Well and Recurent Data Section.\n",
    "\n",
    "The **\\*WPRN** is relative to how frequently the information related to GRID, WELL and LAYERS needs to be put in output file. The default pattern is relative to print everything at each *TIME defined in the file. If no information was demanded put a 0 following the name ot the property.\n",
    "\n",
    "In this file \\*WPRN is setting well and grid to output nothing, but later in the last KW group section it appears again saying to store well and grid properties at each timestep.\n",
    "\n",
    "Also, \\*OUTPRNT keyword here is saying to store grid data properties related to pressure, oil saturation, water saturation, and gas saturation.\n",
    "\n",
    "_REF: mx201510en.pdf page 90, 286-296_\n",
    "\n"
   ]
  },
  {
   "cell_type": "markdown",
   "metadata": {},
   "source": [
    "``` *WSRF   *GRID   *TIME ```\n",
    "\n",
    "``` *WSRF   *WELL   *TIME ```\n",
    "\n",
    "``` *OUTSRF *GRID *SO *SW  *SG  *PRES ```\n",
    "\n",
    "``` *OUTSRF *SPECIAL 1 1 1 PRES ```\n",
    "\n",
    "``` *OUTSRF *SPECIAL 24 25 11 PRES ```\n",
    "\n",
    "...\n",
    "\n",
    "``` *OUTSRF *SPECIAL 1 13 1 SG ```\n",
    "\n",
    "...\n",
    "\n",
    "``` *OUTSRF *SPECIAL 24 25 1 SW ```\n",
    "\n",
    "...\n",
    "\n",
    "\n",
    "The **\\*WSRF** and **\\*OUTSRF** keywords follows the same behavior of the earlier commands but are related to the what and within frequency contents muts appears in SR2 file for graphical displaying. They can appear in this \\[1\\] I/O Control Group Section and also later in  the \\[7\\] Well and Recurent Data Section.\n",
    "\n",
    "The **\\*WSRF** is relative to how frequently the information related to GRID, WELL and LAYERS needs to be put in output file. The default pattern is relative to print everything at each *TIME defined in the file. If no information was demanded put a 0 following the name ot the property.\n",
    "\n",
    "In this file \\*WSRF is setting well and grid to output at each time defined in the final section.\n",
    "\n",
    "Also, \\*OUTSRF keyword here is saying to store grid data properties related to oil saturation, water saturation, gas saturation, and pressure. A lot of \\*SPECIAL registers were set to specific plotting.\n",
    "\n",
    "_REF: mx201510en.pdf page 91, 297-305_\n",
    "\n"
   ]
  },
  {
   "cell_type": "markdown",
   "metadata": {},
   "source": [
    "``` *OUTDIARY  *WELLSTATUS ```\n",
    "\n",
    "The **\\*OUTDIARY** controls part of the informatino in the output diary file. Because the \\*WELL STATUS appears sequentially it denotes that the saturations (oil, gas, water) and pressure of all injection/production wells will be written.\n",
    "\n",
    "_REF: mx201510en.pdf page 306-307_"
   ]
  },
  {
   "cell_type": "markdown",
   "metadata": {},
   "source": []
  },
  {
   "cell_type": "markdown",
   "metadata": {},
   "source": []
  },
  {
   "cell_type": "code",
   "execution_count": null,
   "metadata": {},
   "outputs": [],
   "source": []
  },
  {
   "cell_type": "code",
   "execution_count": null,
   "metadata": {},
   "outputs": [],
   "source": []
  },
  {
   "cell_type": "code",
   "execution_count": null,
   "metadata": {},
   "outputs": [],
   "source": []
  }
 ],
 "metadata": {
  "kernelspec": {
   "display_name": "Python 3",
   "language": "python",
   "name": "python3"
  },
  "language_info": {
   "codemirror_mode": {
    "name": "ipython",
    "version": 3
   },
   "file_extension": ".py",
   "mimetype": "text/x-python",
   "name": "python",
   "nbconvert_exporter": "python",
   "pygments_lexer": "ipython3",
   "version": "3.7.4"
  }
 },
 "nbformat": 4,
 "nbformat_minor": 1
}
